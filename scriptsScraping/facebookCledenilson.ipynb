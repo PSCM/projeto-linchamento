{
  "nbformat": 4,
  "nbformat_minor": 0,
  "metadata": {
    "colab": {
      "provenance": []
    },
    "kernelspec": {
      "name": "python3",
      "display_name": "Python 3"
    },
    "language_info": {
      "name": "python"
    }
  },
  "cells": [
    {
      "cell_type": "markdown",
      "source": [
        "# Download"
      ],
      "metadata": {
        "id": "5ENDiz9-nXmG"
      }
    },
    {
      "cell_type": "code",
      "source": [
        "! pip install facebook-scraper"
      ],
      "metadata": {
        "id": "Lsnaac1oq_D9"
      },
      "execution_count": null,
      "outputs": []
    },
    {
      "cell_type": "code",
      "source": [
        "import pandas as pd\n",
        "import facebook_scraper"
      ],
      "metadata": {
        "id": "f5P88grguDcD"
      },
      "execution_count": null,
      "outputs": []
    },
    {
      "cell_type": "code",
      "source": [
        "import facebook_scraper\n",
        "\n",
        "post_ids = ['1014199301965488']\n",
        "options = {\"comments\": True,\n",
        "           \"reactors\": True,\n",
        "           \"allow_extra_requests\": True,\n",
        "}\n",
        "cookies = \"/content/cookies.txt\"\n",
        "\n",
        "comments = []\n",
        "\n",
        "for post in facebook_scraper.get_posts(post_urls=post_ids, cookies=cookies, options=options):\n",
        "     for p in post['comments_full']:\n",
        "      comments.append(p)"
      ],
      "metadata": {
        "id": "Eb_obBuNrJ4i"
      },
      "execution_count": null,
      "outputs": []
    },
    {
      "cell_type": "code",
      "source": [
        "# Transformar em df\n",
        "df = pd.DataFrame(post['comments_full'])\n",
        "len(df)"
      ],
      "metadata": {
        "id": "xUV-Jr6EE-4Y",
        "colab": {
          "base_uri": "https://localhost:8080/"
        },
        "outputId": "b3fe8ffa-86cf-49c5-a812-9a529764733c"
      },
      "execution_count": null,
      "outputs": [
        {
          "output_type": "execute_result",
          "data": {
            "text/plain": [
              "1773"
            ]
          },
          "metadata": {},
          "execution_count": 113
        }
      ]
    },
    {
      "cell_type": "code",
      "source": [
        "# Informações sobre o post\n",
        "print(f\"Likes:{post.get('likes')}, Comentários:{post.get('comments')}, Compartilhamentos: {post.get('shares')}\")"
      ],
      "metadata": {
        "colab": {
          "base_uri": "https://localhost:8080/"
        },
        "id": "AYwpFeGuCp_J",
        "outputId": "db15719e-21d3-461f-abe3-e220378b9190"
      },
      "execution_count": null,
      "outputs": [
        {
          "output_type": "stream",
          "name": "stdout",
          "text": [
            "Likes:12305, Comentários:3029, Compartilhamentos: 1180\n"
          ]
        }
      ]
    },
    {
      "cell_type": "code",
      "source": [
        "# Salvar base\n",
        "df.to_excel('cledenilson.xlsx', index=False)"
      ],
      "metadata": {
        "id": "MivqfJLWhHRg"
      },
      "execution_count": null,
      "outputs": []
    }
  ]
}